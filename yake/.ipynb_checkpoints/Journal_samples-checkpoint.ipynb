{
 "cells": [
  {
   "cell_type": "code",
   "execution_count": 1,
   "metadata": {},
   "outputs": [],
   "source": [
    "from datarepresentation import DataCore\n",
    "from yake import YakeKeywordExtractor"
   ]
  },
  {
   "cell_type": "code",
   "execution_count": 2,
   "metadata": {},
   "outputs": [],
   "source": [
    "with open('StopwordsList/stopwords_en.txt', encoding='utf-8') as stop_fil:\n",
    "    stopword_set = set( stop_fil.read().lower().split(\"\\n\") )"
   ]
  },
  {
   "cell_type": "code",
   "execution_count": 3,
   "metadata": {},
   "outputs": [],
   "source": [
    "with open('../Datasets/Krapivin2009/docsutf8/1005399.txt', encoding='utf-8') as stop_fil:\n",
    "    text = stop_fil.read().replace('\\n\\t',' ')"
   ]
  },
  {
   "cell_type": "code",
   "execution_count": 11,
   "metadata": {},
   "outputs": [],
   "source": [
    "with open('../Datasets/Inspec/docsutf8/1001.txt', encoding='utf-8') as stop_fil:\n",
    "    text = stop_fil.read().replace('\\n\\t',' ')"
   ]
  },
  {
   "cell_type": "code",
   "execution_count": null,
   "metadata": {},
   "outputs": [],
   "source": [
    "text"
   ]
  },
  {
   "cell_type": "code",
   "execution_count": 50,
   "metadata": {},
   "outputs": [],
   "source": [
    "dc = DataCore(text=text, stopword_set=stopword_set, windowsSize=1, n=3)\n",
    "dc.build_single_terms_features()\n",
    "dc.build_mult_terms_features()\n",
    "paired_terms = [ (term_str, term) for term_str, term in dc.terms.items()]\n",
    "w1 = sorted(paired_terms, key=lambda x: x[1].H)[-30:]"
   ]
  },
  {
   "cell_type": "code",
   "execution_count": 6,
   "metadata": {},
   "outputs": [],
   "source": [
    "dc = DataCore(text=text, stopword_set=stopword_set, windowsSize=2, n=3)\n",
    "dc.build_single_terms_features()\n",
    "dc.build_mult_terms_features()\n",
    "paired_terms = [ (term_str, term.H) for term_str, term in dc.terms.items() if not term.stopword]\n",
    "w2 = sorted(paired_terms, key=lambda x: x[1])[-30:]"
   ]
  },
  {
   "cell_type": "code",
   "execution_count": 7,
   "metadata": {},
   "outputs": [
    {
     "name": "stdout",
     "output_type": "stream",
     "text": [
      "0 simple(1.226)\t\t\tconcern(1.273)\n",
      "1 concern(1.273)\t\t\tsemantically(1.273)\n",
      "2 semantically(1.273)\t\t\trelevant(1.273)\n",
      "3 relevant(1.273)\t\t\tinvolved(1.273)\n",
      "4 involved(1.273)\t\t\tstate(1.273)\n",
      "5 state(1.273)\t\t\tbelief(1.273)\n",
      "6 belief(1.273)\t\t\tsimple(1.274)\n",
      "7 maintain(1.561)\t\t\tmaintain(1.561)\n",
      "8 syntactic(1.561)\t\t\tsyntactic(1.561)\n",
      "9 mirroring(1.561)\t\t\tmirroring(1.561)\n",
      "10 combination(1.722)\t\t\tcombination(1.722)\n",
      "11 connect(1.781)\t\t\tconnect(1.781)\n",
      "12 part(1.781)\t\t\tpart(1.781)\n",
      "13 supervene(1.959)\t\t\tsupervene(1.959)\n",
      "14 solely(1.959)\t\t\tsolely(1.959)\n",
      "15 kind(1.959)\t\t\tkind(1.959)\n",
      "16 support(1.959)\t\t\tsupport(1.959)\n",
      "17 logical(1.959)\t\t\tlogical(1.959)\n",
      "18 principle(1.959)\t\t\tprinciple(1.959)\n",
      "19 system(1.961)\t\t\tsystem(1.961)\n",
      "20 hand(2.057)\t\t\thand(2.057)\n",
      "21 substantive(2.232)\t\t\tsubstantive(2.232)\n",
      "22 possesse(2.232)\t\t\tpossesse(2.232)\n",
      "23 independently(2.232)\t\t\tindependently(2.232)\n",
      "24 representational(2.232)\t\t\trepresentational(2.232)\n",
      "25 argue(2.340)\t\t\targue(2.340)\n",
      "26 theorie(2.340)\t\t\ttheorie(2.340)\n",
      "27 false(2.340)\t\t\tfalse(2.340)\n",
      "28 falsehood(2.340)\t\t\tfalsehood(2.340)\n",
      "29 result(2.340)\t\t\tresult(2.340)\n"
     ]
    }
   ],
   "source": [
    "for i, ((ts1, t1), (ts2, t2)) in enumerate(zip(w1,w2)):\n",
    "    print('%d %s(%.3f)\\t\\t\\t%s(%.3f)' % (i, ts1, t1, ts2, t2))"
   ]
  },
  {
   "cell_type": "code",
   "execution_count": 8,
   "metadata": {},
   "outputs": [
    {
     "data": {
      "text/plain": [
       "[(('simple', 1.225681622175571), ('concern', 1.273388844274015)),\n",
       " (('concern', 1.273388844274015), ('semantically', 1.273388844274015)),\n",
       " (('semantically', 1.273388844274015), ('relevant', 1.273388844274015)),\n",
       " (('relevant', 1.273388844274015), ('involved', 1.273388844274015)),\n",
       " (('involved', 1.273388844274015), ('state', 1.273388844274015)),\n",
       " (('state', 1.273388844274015), ('belief', 1.273388844274015)),\n",
       " (('belief', 1.273388844274015), ('simple', 1.2742188029076298)),\n",
       " (('maintain', 1.5605407553566273), ('maintain', 1.5605407553566273)),\n",
       " (('syntactic', 1.5605407553566273), ('syntactic', 1.5605407553566273)),\n",
       " (('mirroring', 1.5605407553566273), ('mirroring', 1.5605407553566273)),\n",
       " (('combination', 1.7217560350507133), ('combination', 1.7217560350507133)),\n",
       " (('connect', 1.7813818935567018), ('connect', 1.7813818935567018)),\n",
       " (('part', 1.7813818935567018), ('part', 1.7813818935567018)),\n",
       " (('supervene', 1.958975755435478), ('supervene', 1.958975755435478)),\n",
       " (('solely', 1.958975755435478), ('solely', 1.958975755435478)),\n",
       " (('kind', 1.958975755435478), ('kind', 1.958975755435478)),\n",
       " (('support', 1.958975755435478), ('support', 1.958975755435478)),\n",
       " (('logical', 1.958975755435478), ('logical', 1.958975755435478)),\n",
       " (('principle', 1.958975755435478), ('principle', 1.958975755435478)),\n",
       " (('system', 1.9614829060530083), ('system', 1.9614829060530083)),\n",
       " (('hand', 2.0568696783445444), ('hand', 2.0568696783445444)),\n",
       " (('substantive', 2.231731661998089), ('substantive', 2.231731661998089)),\n",
       " (('possesse', 2.231731661998089), ('possesse', 2.231731661998089)),\n",
       " (('independently', 2.231731661998089), ('independently', 2.231731661998089)),\n",
       " (('representational', 2.231731661998089),\n",
       "  ('representational', 2.231731661998089)),\n",
       " (('argue', 2.340260611805348), ('argue', 2.340260611805348)),\n",
       " (('theorie', 2.340260611805348), ('theorie', 2.340260611805348)),\n",
       " (('false', 2.340260611805348), ('false', 2.340260611805348)),\n",
       " (('falsehood', 2.340260611805348), ('falsehood', 2.340260611805348)),\n",
       " (('result', 2.340260611805348), ('result', 2.340260611805348))]"
      ]
     },
     "execution_count": 8,
     "metadata": {},
     "output_type": "execute_result"
    }
   ],
   "source": [
    "list(zip(w1,w2))"
   ]
  },
  {
   "cell_type": "code",
   "execution_count": 40,
   "metadata": {},
   "outputs": [],
   "source": [
    "yake_obj = YakeKeywordExtractor(windowsSize=1, dedupLim=0.2, top=1000000)\n",
    "results = yake_obj.extract_keywords_on(text)"
   ]
  },
  {
   "cell_type": "code",
   "execution_count": 42,
   "metadata": {},
   "outputs": [
    {
     "name": "stdout",
     "output_type": "stream",
     "text": [
      "1 thesis 0.066\n",
      "2 dretske and jerry 0.066\n",
      "3 lot 0.072\n",
      "4 language of thought 0.081\n",
      "5 ibs 0.093\n",
      "6 atomistic information 0.105\n",
      "7 fodor 0.159\n",
      "8 structure 0.210\n",
      "9 information content 0.224\n",
      "10 philosophy of mind 0.254\n"
     ]
    }
   ],
   "source": [
    "count = 0\n",
    "for i, (score, kw) in enumerate(results[:10]):\n",
    "    print('%d %s %.3f' % (i+1, kw, score))\n",
    "    "
   ]
  },
  {
   "cell_type": "code",
   "execution_count": 38,
   "metadata": {},
   "outputs": [],
   "source": [
    "to_analyse_terms = set(['thesis', 'dretske and jerry', 'jerry fodor', 'lot', 'language of thought', 'language and atomistic', 'atomism', 'language', 'ibs', 'language', 'content atomism', 'information-based semantics', 'thought', 'philosophy of mind', 'thesis of information-based', 'content', 'cognitive states', 'philosophy', 'information-based', 'thesis of content', 'desires', 'beliefs'])"
   ]
  },
  {
   "cell_type": "code",
   "execution_count": 44,
   "metadata": {
    "scrolled": false
   },
   "outputs": [
    {
     "name": "stdout",
     "output_type": "stream",
     "text": [
      "1 thesis 0.066\n",
      "2 dretske and jerry 0.066\n",
      "3 lot 0.072\n",
      "4 language of thought 0.081\n",
      "5 ibs 0.093\n",
      "6 atomistic information 0.105\n",
      "7 fodor 0.159\n",
      "8 structure 0.210\n",
      "9 information content 0.224\n",
      "10 philosophy of mind 0.254\n",
      "0\n"
     ]
    }
   ],
   "source": [
    "count = 0\n",
    "for i, (score, kw) in enumerate(results[:10]):\n",
    "    print('%d %s %.3f' % (i+1, kw, score))\n",
    "    #if kw in to_analyse_terms:\n",
    "    #    print('%d %s %.3f' % (i+1, kw, score))\n",
    "    #    count +=1\n",
    "print(count)"
   ]
  },
  {
   "cell_type": "code",
   "execution_count": 13,
   "metadata": {},
   "outputs": [],
   "source": [
    "dc = DataCore(text=text, stopword_set=stopword_set, windowsSize=1, n=3)\n",
    "dc.build_single_terms_features()\n",
    "dc.build_mult_terms_features()\n",
    "paired_terms = [ (term_str, term) for term_str, term in dc.terms.items()]\n",
    "w1 = sorted(paired_terms, key=lambda x: x[1].H)"
   ]
  },
  {
   "cell_type": "code",
   "execution_count": 46,
   "metadata": {
    "scrolled": false
   },
   "outputs": [
    {
     "name": "stdout",
     "output_type": "stream",
     "text": [
      "between 0.25165629446457083\n",
      "a 0.5182782594833653\n",
      "and 0.5800716782118902\n",
      "the 0.637568446265019\n",
      "i 0.6437737726021958\n",
      "of 0.6513404402354136\n",
      "it 0.6529919184784927\n",
      "in 0.6632233563927162\n",
      "their 0.8134700429677935\n",
      "that 0.8523627138594041\n",
      "for 0.8740187795333632\n",
      "three 0.8740187795333632\n",
      "such 0.90323595796115\n",
      "about 0.979487877717739\n",
      "these 0.9875296967491157\n",
      "on 1.1045009538652186\n",
      "is 1.105749986954791\n",
      "are 1.1862774495305752\n",
      "all 1.2396643452365133\n",
      "as 1.273388844274015\n",
      "from 1.3741205729580797\n",
      "other 1.4477726979773156\n",
      "must 1.5605407553566273\n",
      "have 1.5605407553566273\n",
      "perhap 1.7217560350507133\n",
      "to 1.7813818935567018\n",
      "with 1.958975755435478\n",
      "some 1.958975755435478\n",
      "help 1.958975755435478\n",
      "each 2.231731661998089\n",
      "its 2.231731661998089\n",
      "one 2.340260611805348\n"
     ]
    },
    {
     "data": {
      "text/plain": [
       "([0.25165629446457083,\n",
       "  0.5182782594833653,\n",
       "  0.5800716782118902,\n",
       "  0.637568446265019,\n",
       "  0.6437737726021958,\n",
       "  0.6513404402354136,\n",
       "  0.6529919184784927,\n",
       "  0.6632233563927162,\n",
       "  0.8134700429677935,\n",
       "  0.8523627138594041,\n",
       "  0.8740187795333632,\n",
       "  0.8740187795333632,\n",
       "  0.90323595796115,\n",
       "  0.979487877717739,\n",
       "  0.9875296967491157,\n",
       "  1.1045009538652186,\n",
       "  1.105749986954791,\n",
       "  1.1862774495305752,\n",
       "  1.2396643452365133,\n",
       "  1.273388844274015,\n",
       "  1.3741205729580797,\n",
       "  1.4477726979773156,\n",
       "  1.5605407553566273,\n",
       "  1.5605407553566273,\n",
       "  1.7217560350507133,\n",
       "  1.7813818935567018,\n",
       "  1.958975755435478,\n",
       "  1.958975755435478,\n",
       "  1.958975755435478,\n",
       "  2.231731661998089,\n",
       "  2.231731661998089,\n",
       "  2.340260611805348],\n",
       " [2.1739130434782608,\n",
       "  13.043478260869565,\n",
       "  14.130434782608695,\n",
       "  16.304347826086957,\n",
       "  17.391304347826086,\n",
       "  18.47826086956522,\n",
       "  19.565217391304348,\n",
       "  20.652173913043477,\n",
       "  26.08695652173913,\n",
       "  27.17391304347826,\n",
       "  29.347826086956523,\n",
       "  31.52173913043478,\n",
       "  38.04347826086956,\n",
       "  39.130434782608695,\n",
       "  41.30434782608695,\n",
       "  46.73913043478261,\n",
       "  48.91304347826087,\n",
       "  51.08695652173913,\n",
       "  53.26086956521739,\n",
       "  59.78260869565217,\n",
       "  61.95652173913044,\n",
       "  63.04347826086956,\n",
       "  65.21739130434783,\n",
       "  66.30434782608695,\n",
       "  69.56521739130434,\n",
       "  73.91304347826087,\n",
       "  79.34782608695652,\n",
       "  80.43478260869566,\n",
       "  81.52173913043478,\n",
       "  86.95652173913044,\n",
       "  90.21739130434783,\n",
       "  98.91304347826087])"
      ]
     },
     "execution_count": 46,
     "metadata": {},
     "output_type": "execute_result"
    }
   ],
   "source": [
    "array_H = []\n",
    "array_pos = []\n",
    "for i, (term, term_obj) in enumerate(w1):\n",
    "    if term_obj.stopword:\n",
    "        array_H.append(term_obj.H)\n",
    "        array_pos.append(100.*i/len(dc.terms))\n",
    "        print(term, term_obj.H)\n",
    "array_H, array_pos"
   ]
  },
  {
   "cell_type": "code",
   "execution_count": 9,
   "metadata": {},
   "outputs": [],
   "source": [
    "import matplotlib.pylab as plt\n"
   ]
  },
  {
   "cell_type": "code",
   "execution_count": 32,
   "metadata": {},
   "outputs": [
    {
     "data": {
      "text/plain": [
       "[<matplotlib.lines.Line2D at 0x7f096d045f60>]"
      ]
     },
     "execution_count": 32,
     "metadata": {},
     "output_type": "execute_result"
    },
    {
     "data": {
      "image/png": "[encoded data removed]",
      "text/plain": [
       "<matplotlib.figure.Figure at 0x7f096d123d30>"
      ]
     },
     "metadata": {},
     "output_type": "display_data"
    }
   ],
   "source": [
    "plt.plot(array_H, array_pos, 'p')"
   ]
  },
  {
   "cell_type": "code",
   "execution_count": 45,
   "metadata": {},
   "outputs": [
    {
     "data": {
      "text/plain": [
       "0.34020224977107366"
      ]
     },
     "execution_count": 45,
     "metadata": {},
     "output_type": "execute_result"
    }
   ],
   "source": [
    "3*(dc.terms['language'].H*dc.terms['thought'].H) / (dc.terms['language'].H+dc.terms['thought'].H)"
   ]
  },
  {
   "cell_type": "code",
   "execution_count": null,
   "metadata": {},
   "outputs": [],
   "source": []
  }
 ],
 "metadata": {
  "kernelspec": {
   "display_name": "Python 3",
   "language": "python",
   "name": "python3"
  },
  "language_info": {
   "codemirror_mode": {
    "name": "ipython",
    "version": 3
   },
   "file_extension": ".py",
   "mimetype": "text/x-python",
   "name": "python",
   "nbconvert_exporter": "python",
   "pygments_lexer": "ipython3",
   "version": "3.6.4"
  }
 },
 "nbformat": 4,
 "nbformat_minor": 2
}
